{
 "cells": [
  {
   "cell_type": "code",
   "execution_count": 1,
   "id": "efe78afc-bc95-48a1-bd21-a80abc2b8213",
   "metadata": {},
   "outputs": [
    {
     "name": "stdout",
     "output_type": "stream",
     "text": [
      "3*x**2 + 4*x + 3\n"
     ]
    }
   ],
   "source": [
    "#Symbolic Differentiation with SymPy:\n",
    "\n",
    "from sympy import symbols, diff\n",
    "\n",
    "x = symbols('x')\n",
    "f = x**3 + 2*x**2 + 3*x + 4\n",
    "f_prime = diff(f, x)\n",
    "print(f_prime)\n"
   ]
  },
  {
   "cell_type": "code",
   "execution_count": 2,
   "id": "a9bfc170-5b34-463e-bd75-a0c1c1f5de2f",
   "metadata": {},
   "outputs": [
    {
     "name": "stdout",
     "output_type": "stream",
     "text": [
      "[ 6. 11. 16.]\n"
     ]
    }
   ],
   "source": [
    "#Numerical Differentiation with NumPy:\n",
    "\n",
    "import numpy as np\n",
    "\n",
    "def f(x):\n",
    "    return x**3 + 2*x**2 + 3*x + 4\n",
    "\n",
    "x_vals = np.array([0, 1, 2])\n",
    "derivatives = np.gradient(f(x_vals), x_vals)\n",
    "print(derivatives)\n"
   ]
  },
  {
   "cell_type": "code",
   "execution_count": null,
   "id": "72a205a3-4075-461e-aa16-6d0ba781c747",
   "metadata": {},
   "outputs": [],
   "source": []
  }
 ],
 "metadata": {
  "kernelspec": {
   "display_name": "Python 3 (ipykernel)",
   "language": "python",
   "name": "python3"
  },
  "language_info": {
   "codemirror_mode": {
    "name": "ipython",
    "version": 3
   },
   "file_extension": ".py",
   "mimetype": "text/x-python",
   "name": "python",
   "nbconvert_exporter": "python",
   "pygments_lexer": "ipython3",
   "version": "3.11.7"
  }
 },
 "nbformat": 4,
 "nbformat_minor": 5
}
