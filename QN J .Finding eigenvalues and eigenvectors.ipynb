{
 "cells": [
  {
   "cell_type": "code",
   "execution_count": null,
   "id": "6f18a541-5c3d-42a3-9e38-9a8b4fc7b6af",
   "metadata": {},
   "outputs": [],
   "source": [
    "# QN 1. finding the eigenvalues and eigenvectors using Power iteration method"
   ]
  },
  {
   "cell_type": "code",
   "execution_count": 11,
   "id": "ed98b750-91ff-4a4d-967a-acc231c65a8c",
   "metadata": {},
   "outputs": [
    {
     "name": "stdout",
     "output_type": "stream",
     "text": [
      "Dominant eigenvector (Power Iteration): [0.88765034 0.42713229 0.17214786]\n"
     ]
    }
   ],
   "source": [
    "import numpy as np\n",
    "# Define matrix A\n",
    "A = np.array([[4, 1, 1], [1, 3, -1], [1, -1, 2]])\n",
    "def power_iteration(A, num_iterations=1000):\n",
    "    # Start with a random initial vector\n",
    "    v = np.random.rand(A.shape[0])\n",
    "\n",
    "    for _ in range(num_iterations):\n",
    "        v = A @ v\n",
    "        v /= np.linalg.norm(v)\n",
    "\n",
    "    return v\n",
    "\n",
    "# Compute the dominant eigenvector\n",
    "eigenvector_power = power_iteration(A)\n",
    "print(\"Dominant eigenvector (Power Iteration):\", eigenvector_power)\n"
   ]
  },
  {
   "cell_type": "code",
   "execution_count": null,
   "id": "cb88ffdc-5821-4c87-9f47-082ec9ebef4f",
   "metadata": {},
   "outputs": [],
   "source": [
    "# QN 2. finding the eigenvalues and eigenvectors using QR iteration method"
   ]
  },
  {
   "cell_type": "code",
   "execution_count": 9,
   "id": "91ea3d54-312e-46e0-a0cd-37aaba3accb7",
   "metadata": {},
   "outputs": [
    {
     "name": "stdout",
     "output_type": "stream",
     "text": [
      "Eigenvalues (QR Algorithm): [4.67513087 3.53918887 0.78568026]\n"
     ]
    }
   ],
   "source": [
    "# Define matrix A\n",
    "A = np.array([[4, 1, 1], [1, 3, -1], [1, -1, 2]])\n",
    "\n",
    "def qr_algorithm(A, num_iterations=1000):\n",
    "    for _ in range(num_iterations):\n",
    "        Q, R = np.linalg.qr(A)\n",
    "        A = R @ Q\n",
    "\n",
    "    eigenvalues = np.diag(A)\n",
    "    return eigenvalues\n",
    "\n",
    "# Compute eigenvalues using QR Algorithm\n",
    "eigenvalues_qr = qr_algorithm(A)\n",
    "print(\"Eigenvalues (QR Algorithm):\", eigenvalues_qr)\n"
   ]
  },
  {
   "cell_type": "code",
   "execution_count": null,
   "id": "13af800a-98b9-4342-bda7-eb739779fbe5",
   "metadata": {},
   "outputs": [],
   "source": []
  }
 ],
 "metadata": {
  "kernelspec": {
   "display_name": "Python 3 (ipykernel)",
   "language": "python",
   "name": "python3"
  },
  "language_info": {
   "codemirror_mode": {
    "name": "ipython",
    "version": 3
   },
   "file_extension": ".py",
   "mimetype": "text/x-python",
   "name": "python",
   "nbconvert_exporter": "python",
   "pygments_lexer": "ipython3",
   "version": "3.11.7"
  }
 },
 "nbformat": 4,
 "nbformat_minor": 5
}
