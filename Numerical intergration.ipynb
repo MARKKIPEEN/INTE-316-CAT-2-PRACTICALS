{
 "cells": [
  {
   "cell_type": "code",
   "execution_count": 1,
   "id": "9fae71f5-bd23-415a-a153-c306913215f9",
   "metadata": {},
   "outputs": [
    {
     "name": "stdout",
     "output_type": "stream",
     "text": [
      "0.33333333333333337\n"
     ]
    }
   ],
   "source": [
    "#Using quad for single integration:\n",
    "\n",
    "from scipy.integrate import quad\n",
    "\n",
    "def integrand(x):\n",
    "    return x**2\n",
    "\n",
    "result, error = quad(integrand, 0, 1)\n",
    "print(result)\n"
   ]
  },
  {
   "cell_type": "code",
   "execution_count": 2,
   "id": "48865042-ddd6-451b-93c8-20654e96917a",
   "metadata": {},
   "outputs": [
    {
     "name": "stdout",
     "output_type": "stream",
     "text": [
      "0.24999999999999997\n"
     ]
    }
   ],
   "source": [
    "#Using dblquad for double integration:\n",
    "\n",
    "from scipy.integrate import dblquad\n",
    "\n",
    "def integrand(x, y):\n",
    "    return x * y\n",
    "\n",
    "result, error = dblquad(integrand, 0, 1, lambda x: 0, lambda x: 1)\n",
    "print(result)\n"
   ]
  },
  {
   "cell_type": "code",
   "execution_count": null,
   "id": "1d52325b-aa34-4948-abf2-e2f42f5b9665",
   "metadata": {},
   "outputs": [],
   "source": []
  }
 ],
 "metadata": {
  "kernelspec": {
   "display_name": "Python 3 (ipykernel)",
   "language": "python",
   "name": "python3"
  },
  "language_info": {
   "codemirror_mode": {
    "name": "ipython",
    "version": 3
   },
   "file_extension": ".py",
   "mimetype": "text/x-python",
   "name": "python",
   "nbconvert_exporter": "python",
   "pygments_lexer": "ipython3",
   "version": "3.11.7"
  }
 },
 "nbformat": 4,
 "nbformat_minor": 5
}
