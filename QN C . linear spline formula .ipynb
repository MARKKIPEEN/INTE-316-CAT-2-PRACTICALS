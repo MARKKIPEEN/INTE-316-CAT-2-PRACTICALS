{
 "cells": [
  {
   "cell_type": "code",
   "execution_count": 1,
   "id": "92eca3f8-0ecd-402f-a9ea-fb749069747a",
   "metadata": {},
   "outputs": [
    {
     "name": "stdout",
     "output_type": "stream",
     "text": [
      "Value of y at x = 4.0: 7.11\n"
     ]
    }
   ],
   "source": [
    "# Given data points\n",
    "x_values = [2.00, 4.25, 5.25, 7.81, 9.20, 10.60]\n",
    "y_values = [7.2, 7.1, 6.0, 5.0, 3.5, 5.0]\n",
    "\n",
    "# Find the interval containing x = 4.0\n",
    "for i in range(len(x_values) - 1):\n",
    "    if x_values[i] <= 4.0 < x_values[i + 1]:\n",
    "        x_i, x_ip1 = x_values[i], x_values[i + 1]\n",
    "        y_i, y_ip1 = y_values[i], y_values[i + 1]\n",
    "        break\n",
    "\n",
    "# Calculate the linear spline value at x = 4.0\n",
    "slope = (y_ip1 - y_i) / (x_ip1 - x_i)\n",
    "y_at_x_4 = y_i + slope * (4.0 - x_i)\n",
    "\n",
    "print(f\"Value of y at x = 4.0: {y_at_x_4:.2f}\")\n"
   ]
  },
  {
   "cell_type": "code",
   "execution_count": null,
   "id": "1ce1bbef-abd0-48bf-9c08-5b57aa463f2f",
   "metadata": {},
   "outputs": [],
   "source": []
  }
 ],
 "metadata": {
  "kernelspec": {
   "display_name": "Python 3 (ipykernel)",
   "language": "python",
   "name": "python3"
  },
  "language_info": {
   "codemirror_mode": {
    "name": "ipython",
    "version": 3
   },
   "file_extension": ".py",
   "mimetype": "text/x-python",
   "name": "python",
   "nbconvert_exporter": "python",
   "pygments_lexer": "ipython3",
   "version": "3.11.7"
  }
 },
 "nbformat": 4,
 "nbformat_minor": 5
}
