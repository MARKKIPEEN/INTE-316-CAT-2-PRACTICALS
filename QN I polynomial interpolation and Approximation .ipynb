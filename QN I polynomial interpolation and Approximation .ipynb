{
 "cells": [
  {
   "cell_type": "code",
   "execution_count": null,
   "id": "404de94b-6415-43b2-a5da-24b850de757e",
   "metadata": {},
   "outputs": [],
   "source": [
    "# QN 1.Implementation of Lagrange Polynomial:"
   ]
  },
  {
   "cell_type": "code",
   "execution_count": 3,
   "id": "936985dc-8df0-494e-af9d-fb2ae0c7c085",
   "metadata": {},
   "outputs": [
    {
     "name": "stdout",
     "output_type": "stream",
     "text": [
      "Interpolated value at x = 2.5: 6.25\n"
     ]
    }
   ],
   "source": [
    "def lagrange_interpolation(x_values, y_values, x):\n",
    "    \"\"\"\n",
    "    Computes the Lagrange polynomial interpolation for given data points.\n",
    "\n",
    "    Args:\n",
    "        x_values (list or numpy array): List of x values (data points).\n",
    "        y_values (list or numpy array): List of corresponding y values.\n",
    "        x (float): The value at which to interpolate.\n",
    "\n",
    "    Returns:\n",
    "        float: Interpolated value at x.\n",
    "    \"\"\"\n",
    "    assert len(x_values) == len(y_values), \"Number of x and y values must be the same\"\n",
    "    \n",
    "    n = len(x_values)\n",
    "    result = 0.0\n",
    "    \n",
    "    for i in range(n):\n",
    "        term = y_values[i]\n",
    "        for j in range(n):\n",
    "            if i != j:\n",
    "                term *= (x - x_values[j]) / (x_values[i] - x_values[j])\n",
    "        result += term\n",
    "    \n",
    "    return result\n",
    "\n",
    "# Example usage:\n",
    "x_values = [1, 2, 3, 4]\n",
    "y_values = [1, 4, 9, 16]\n",
    "interpolated_value = lagrange_interpolation(x_values, y_values, 2.5)\n",
    "print(f\"Interpolated value at x = 2.5: {interpolated_value:.2f}\")\n"
   ]
  },
  {
   "cell_type": "code",
   "execution_count": null,
   "id": "4e945e01-772d-4f04-a976-28233215c625",
   "metadata": {},
   "outputs": [],
   "source": [
    "# QN 2.Implementation of Newton’s Divided Difference Method"
   ]
  },
  {
   "cell_type": "code",
   "execution_count": 4,
   "id": "dff8022f-bce2-4581-9d41-9596db601ee1",
   "metadata": {},
   "outputs": [
    {
     "name": "stdout",
     "output_type": "stream",
     "text": [
      "Interpolated value using Newton's method at x = 2.5: 6.25\n"
     ]
    }
   ],
   "source": [
    "def divided_differences(x_values, y_values):\n",
    "    \"\"\"\n",
    "    Computes the divided differences for Newton's Divided Difference method.\n",
    "\n",
    "    Args:\n",
    "        x_values (list or numpy array): List of x values (data points).\n",
    "        y_values (list or numpy array): List of corresponding y values.\n",
    "\n",
    "    Returns:\n",
    "        list: List of divided difference coefficients.\n",
    "    \"\"\"\n",
    "    n = len(x_values)\n",
    "    f = [y for y in y_values]\n",
    "    \n",
    "    for j in range(1, n):\n",
    "        for i in range(n - 1, j - 1, -1):\n",
    "            f[i] = (f[i] - f[i - 1]) / (x_values[i] - x_values[i - j])\n",
    "    \n",
    "    return f\n",
    "\n",
    "def newton_interpolation(x_values, y_values, x):\n",
    "    \"\"\"\n",
    "    Computes the interpolated value using Newton's Divided Difference method.\n",
    "\n",
    "    Args:\n",
    "        x_values (list or numpy array): List of x values (data points).\n",
    "        y_values (list or numpy array): List of corresponding y values.\n",
    "        x (float): The value at which to interpolate.\n",
    "\n",
    "    Returns:\n",
    "        float: Interpolated value at x.\n",
    "    \"\"\"\n",
    "    f = divided_differences(x_values, y_values)\n",
    "    n = len(x_values)\n",
    "    result = f[0]\n",
    "    \n",
    "    for i in range(1, n):\n",
    "        term = f[i]\n",
    "        for j in range(i):\n",
    "            term *= (x - x_values[j])\n",
    "        result += term\n",
    "    \n",
    "    return result\n",
    "\n",
    "# Example usage:\n",
    "interpolated_value_newton = newton_interpolation(x_values, y_values, 2.5)\n",
    "print(f\"Interpolated value using Newton's method at x = 2.5: {interpolated_value_newton:.2f}\")\n"
   ]
  },
  {
   "cell_type": "code",
   "execution_count": 5,
   "id": "e5e7d870-a440-4a09-9eaf-6dcf4f7eb4ce",
   "metadata": {},
   "outputs": [
    {
     "ename": "NameError",
     "evalue": "name 'A' is not defined",
     "output_type": "error",
     "traceback": [
      "\u001b[1;31m---------------------------------------------------------------------------\u001b[0m",
      "\u001b[1;31mNameError\u001b[0m                                 Traceback (most recent call last)",
      "Cell \u001b[1;32mIn[5], line 14\u001b[0m\n\u001b[0;32m     11\u001b[0m     \u001b[38;5;28;01mreturn\u001b[39;00m v\n\u001b[0;32m     13\u001b[0m \u001b[38;5;66;03m# Compute the dominant eigenvector\u001b[39;00m\n\u001b[1;32m---> 14\u001b[0m eigenvector_power \u001b[38;5;241m=\u001b[39m power_iteration(A)\n\u001b[0;32m     15\u001b[0m \u001b[38;5;28mprint\u001b[39m(\u001b[38;5;124m\"\u001b[39m\u001b[38;5;124mDominant eigenvector (Power Iteration):\u001b[39m\u001b[38;5;124m\"\u001b[39m, eigenvector_power)\n",
      "\u001b[1;31mNameError\u001b[0m: name 'A' is not defined"
     ]
    }
   ],
   "source": [
    "import numpy as np\n",
    "\n",
    "def power_iteration(A, num_iterations=1000):\n",
    "    # Start with a random initial vector\n",
    "    v = np.random.rand(A.shape[0])\n",
    "\n",
    "    for _ in range(num_iterations):\n",
    "        v = A @ v\n",
    "        v /= np.linalg.norm(v)\n",
    "\n",
    "    return v\n",
    "\n",
    "# Compute the dominant eigenvector\n",
    "eigenvector_power = power_iteration(A)\n",
    "print(\"Dominant eigenvector (Power Iteration):\", eigenvector_power)\n"
   ]
  },
  {
   "cell_type": "code",
   "execution_count": 6,
   "id": "1f83b220-8945-4f4f-b903-8d3122f0ec94",
   "metadata": {},
   "outputs": [
    {
     "name": "stdout",
     "output_type": "stream",
     "text": [
      "Eigenvalues (Power Iteration): [4.67513087 3.53918887 0.78568026]\n",
      "Eigenvectors (Power Iteration): [array([0.88765034, 0.42713229, 0.17214786]), array([0.88765034, 0.42713229, 0.17214786]), array([0.88765034, 0.42713229, 0.17214786])]\n"
     ]
    }
   ],
   "source": [
    "import numpy as np\n",
    "\n",
    "# Define matrix A\n",
    "A = np.array([[4, 1, 1], [1, 3, -1], [1, -1, 2]])\n",
    "\n",
    "# Power Iteration method\n",
    "def power_iteration(A, num_iterations=1000):\n",
    "    v = np.random.rand(A.shape[0])  # Initial random vector\n",
    "    for _ in range(num_iterations):\n",
    "        v = A @ v\n",
    "        v /= np.linalg.norm(v)\n",
    "    return v\n",
    "\n",
    "# QR Algorithm\n",
    "def qr_algorithm(A, num_iterations=1000):\n",
    "    for _ in range(num_iterations):\n",
    "        Q, R = np.linalg.qr(A)\n",
    "        A = R @ Q\n",
    "    eigenvalues = np.diag(A)\n",
    "    return eigenvalues\n",
    "\n",
    "# Compute eigenvalues and eigenvectors\n",
    "eigenvalues_power = qr_algorithm(A)\n",
    "eigenvectors_power = [power_iteration(A) for _ in range(len(eigenvalues_power))]\n",
    "\n",
    "print(\"Eigenvalues (Power Iteration):\", eigenvalues_power)\n",
    "print(\"Eigenvectors (Power Iteration):\", eigenvectors_power)\n"
   ]
  },
  {
   "cell_type": "code",
   "execution_count": null,
   "id": "8576eb4c-62ff-4c83-a0c1-67d8f17d0e98",
   "metadata": {},
   "outputs": [],
   "source": []
  }
 ],
 "metadata": {
  "kernelspec": {
   "display_name": "Python 3 (ipykernel)",
   "language": "python",
   "name": "python3"
  },
  "language_info": {
   "codemirror_mode": {
    "name": "ipython",
    "version": 3
   },
   "file_extension": ".py",
   "mimetype": "text/x-python",
   "name": "python",
   "nbconvert_exporter": "python",
   "pygments_lexer": "ipython3",
   "version": "3.11.7"
  }
 },
 "nbformat": 4,
 "nbformat_minor": 5
}
