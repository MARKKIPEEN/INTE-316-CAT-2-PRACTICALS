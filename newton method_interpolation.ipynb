{
 "cells": [
  {
   "cell_type": "code",
   "execution_count": 3,
   "id": "fe6d8660-e7cc-4b93-9dfb-885e5dedf766",
   "metadata": {},
   "outputs": [
    {
     "ename": "NameError",
     "evalue": "name 'x_values' is not defined",
     "output_type": "error",
     "traceback": [
      "\u001b[1;31m---------------------------------------------------------------------------\u001b[0m",
      "\u001b[1;31mNameError\u001b[0m                                 Traceback (most recent call last)",
      "Cell \u001b[1;32mIn[3], line 46\u001b[0m\n\u001b[0;32m     43\u001b[0m     \u001b[38;5;28;01mreturn\u001b[39;00m result\n\u001b[0;32m     45\u001b[0m \u001b[38;5;66;03m# Example usage:\u001b[39;00m\n\u001b[1;32m---> 46\u001b[0m interpolated_value_newton \u001b[38;5;241m=\u001b[39m newton_interpolation(x_values, y_values, \u001b[38;5;241m2.5\u001b[39m)\n\u001b[0;32m     47\u001b[0m \u001b[38;5;28mprint\u001b[39m(\u001b[38;5;124mf\u001b[39m\u001b[38;5;124m\"\u001b[39m\u001b[38;5;124mInterpolated value using Newton\u001b[39m\u001b[38;5;124m'\u001b[39m\u001b[38;5;124ms method at x = 2.5: \u001b[39m\u001b[38;5;132;01m{\u001b[39;00minterpolated_value_newton\u001b[38;5;132;01m:\u001b[39;00m\u001b[38;5;124m.2f\u001b[39m\u001b[38;5;132;01m}\u001b[39;00m\u001b[38;5;124m\"\u001b[39m)\n",
      "\u001b[1;31mNameError\u001b[0m: name 'x_values' is not defined"
     ]
    }
   ],
   "source": [
    "def divided_differences(x_values, y_values):\n",
    "    \"\"\"\n",
    "    Computes the divided differences for Newton's Divided Difference method.\n",
    "\n",
    "    Args:\n",
    "        x_values (list or numpy array): List of x values (data points).\n",
    "        y_values (list or numpy array): List of corresponding y values.\n",
    "\n",
    "    Returns:\n",
    "        list: List of divided difference coefficients.\n",
    "    \"\"\"\n",
    "    n = len(x_values)\n",
    "    f = [y for y in y_values]\n",
    "    \n",
    "    for j in range(1, n):\n",
    "        for i in range(n - 1, j - 1, -1):\n",
    "            f[i] = (f[i] - f[i - 1]) / (x_values[i] - x_values[i - j])\n",
    "    \n",
    "    return f\n",
    "\n",
    "def newton_interpolation(x_values, y_values, x):\n",
    "    \"\"\"\n",
    "    Computes the interpolated value using Newton's Divided Difference method.\n",
    "\n",
    "    Args:\n",
    "        x_values (list or numpy array): List of x values (data points).\n",
    "        y_values (list or numpy array): List of corresponding y values.\n",
    "        x (float): The value at which to interpolate.\n",
    "\n",
    "    Returns:\n",
    "        float: Interpolated value at x.\n",
    "    \"\"\"\n",
    "    f = divided_differences(x_values, y_values)\n",
    "    n = len(x_values)\n",
    "    result = f[0]\n",
    "    \n",
    "    for i in range(1, n):\n",
    "        term = f[i]\n",
    "        for j in range(i):\n",
    "            term *= (x - x_values[j])\n",
    "        result += term\n",
    "    \n",
    "    return result\n",
    "\n",
    "# Example usage:\n",
    "interpolated_value_newton = newton_interpolation(x_values, y_values, 2.5)\n",
    "print(f\"Interpolated value using Newton's method at x = 2.5: {interpolated_value_newton:.2f}\")\n"
   ]
  },
  {
   "cell_type": "code",
   "execution_count": null,
   "id": "04a3bde8-b7ee-40e9-8d62-df6251af8d6d",
   "metadata": {},
   "outputs": [],
   "source": []
  }
 ],
 "metadata": {
  "kernelspec": {
   "display_name": "Python 3 (ipykernel)",
   "language": "python",
   "name": "python3"
  },
  "language_info": {
   "codemirror_mode": {
    "name": "ipython",
    "version": 3
   },
   "file_extension": ".py",
   "mimetype": "text/x-python",
   "name": "python",
   "nbconvert_exporter": "python",
   "pygments_lexer": "ipython3",
   "version": "3.11.7"
  }
 },
 "nbformat": 4,
 "nbformat_minor": 5
}
