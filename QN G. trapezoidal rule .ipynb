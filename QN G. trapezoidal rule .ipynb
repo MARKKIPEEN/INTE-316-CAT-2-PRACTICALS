{
 "cells": [
  {
   "cell_type": "code",
   "execution_count": 1,
   "id": "593e08ff-c3ad-48ad-863b-05b603c528b3",
   "metadata": {},
   "outputs": [
    {
     "name": "stdout",
     "output_type": "stream",
     "text": [
      "Approximated integral: 2.666668\n"
     ]
    }
   ],
   "source": [
    "def trapezoidal_rule(f, a, b, n):\n",
    "    \"\"\"\n",
    "    Approximates the integral of a function f using the trapezoidal rule.\n",
    "\n",
    "    Args:\n",
    "        f: The function to integrate.\n",
    "        a: Lower bound of the interval.\n",
    "        b: Upper bound of the interval.\n",
    "        n: Number of subintervals (higher n leads to better accuracy).\n",
    "\n",
    "    Returns:\n",
    "        Approximated integral value.\n",
    "    \"\"\"\n",
    "    h = (b - a) / n\n",
    "    result = 0.5 * (f(a) + f(b))\n",
    "    for i in range(1, n):\n",
    "        x_i = a + i * h\n",
    "        result += f(x_i)\n",
    "    return h * result\n",
    "\n",
    "# Example usage:\n",
    "def my_function(x):\n",
    "    return x**2  # Replace with your desired function\n",
    "\n",
    "a_val = 0  # Lower bound\n",
    "b_val = 2  # Upper bound\n",
    "num_subintervals = 1000  # Choose an appropriate value\n",
    "\n",
    "integral_approximation = trapezoidal_rule(my_function, a_val, b_val, num_subintervals)\n",
    "print(f\"Approximated integral: {integral_approximation:.6f}\")\n"
   ]
  },
  {
   "cell_type": "code",
   "execution_count": 5,
   "id": "6b8ad862-39c5-425f-9430-b2d934da1383",
   "metadata": {},
   "outputs": [
    {
     "ename": "SyntaxError",
     "evalue": "invalid syntax. Perhaps you forgot a comma? (1529789029.py, line 1)",
     "output_type": "error",
     "traceback": [
      "\u001b[1;36m  Cell \u001b[1;32mIn[5], line 1\u001b[1;36m\u001b[0m\n\u001b[1;33m    x = [1 5 4 3 1 26 9];\u001b[0m\n\u001b[1;37m         ^\u001b[0m\n\u001b[1;31mSyntaxError\u001b[0m\u001b[1;31m:\u001b[0m invalid syntax. Perhaps you forgot a comma?\n"
     ]
    }
   ],
   "source": [
    "x = [1 5 4 3 1 26 9];\n",
    "y = [5.2345 11.28 9.47 4.98];\n",
    "\n",
    "p = polyfit(x, y, 4);\n",
    "xp2 = 1:1:6;\n",
    "y2 = polyval(p, xp2);\n",
    "\n",
    "plot(x, y, 'o', xp2, y2)\n",
    "grid on\n"
   ]
  },
  {
   "cell_type": "code",
   "execution_count": 10,
   "id": "360d4dfa-1cb4-4a91-8412-7e8b07967a04",
   "metadata": {},
   "outputs": [
    {
     "ename": "SyntaxError",
     "evalue": "invalid syntax (329978233.py, line 5)",
     "output_type": "error",
     "traceback": [
      "\u001b[1;36m  Cell \u001b[1;32mIn[10], line 5\u001b[1;36m\u001b[0m\n\u001b[1;33m    x2 = 1 : 0.1 : 6;\u001b[0m\n\u001b[1;37m           ^\u001b[0m\n\u001b[1;31mSyntaxError\u001b[0m\u001b[1;31m:\u001b[0m invalid syntax\n"
     ]
    }
   ],
   "source": [
    "x = [1, 5, 4, 3, 1, 26, 9];\n",
    "y = [5.5, 11.2, 7.0, 7.4, 4.8, 978.67];\n",
    "\n",
    "p = polyfit(x, y, 4);\n",
    "x2 = 1 : 0.1 : 6;\n",
    "y2 = polyval(p, x2);\n",
    "\n",
    "plot(x, y, 'o', x2, y2)\n",
    "grid on\n"
   ]
  },
  {
   "cell_type": "code",
   "execution_count": 5,
   "id": "1a9e6d16-f485-49c4-a076-d130c668822b",
   "metadata": {},
   "outputs": [
    {
     "ename": "SyntaxError",
     "evalue": "invalid syntax (3554901327.py, line 4)",
     "output_type": "error",
     "traceback": [
      "\u001b[1;36m  Cell \u001b[1;32mIn[5], line 4\u001b[1;36m\u001b[0m\n\u001b[1;33m    x2 = 1:0.1:6;\u001b[0m\n\u001b[1;37m          ^\u001b[0m\n\u001b[1;31mSyntaxError\u001b[0m\u001b[1;31m:\u001b[0m invalid syntax\n"
     ]
    }
   ],
   "source": [
    "x = [1, 2, 3, 4, 5, 6];\n",
    "y = [5.5, 43.1, 128, 290.7, 498.4, 978.67];\n",
    "p = polyfit(x, y, 4);\n",
    "x2 = 1:0.1:6;\n",
    "y2 = polyval(p, x2);\n",
    "plot(x, y, 'o', x2, y2);\n",
    "grid on;\n"
   ]
  },
  {
   "cell_type": "code",
   "execution_count": 8,
   "id": "acc8b091-a46e-49d0-a496-77264098fc97",
   "metadata": {},
   "outputs": [
    {
     "name": "stdout",
     "output_type": "stream",
     "text": [
      "Interpolated value at x = 2.5: 6.25\n"
     ]
    }
   ],
   "source": [
    "def lagrange_interpolation(x_values, y_values, x):\n",
    "    \"\"\"\n",
    "    Computes the Lagrange polynomial interpolation for given data points.\n",
    "\n",
    "    Args:\n",
    "        x_values (list or numpy array): List of x values (data points).\n",
    "        y_values (list or numpy array): List of corresponding y values.\n",
    "        x (float): The value at which to interpolate.\n",
    "\n",
    "    Returns:\n",
    "        float: Interpolated value at x.\n",
    "    \"\"\"\n",
    "    assert len(x_values) == len(y_values), \"Number of x and y values must be the same\"\n",
    "    \n",
    "    n = len(x_values)\n",
    "    result = 0.0\n",
    "    \n",
    "    for i in range(n):\n",
    "        term = y_values[i]\n",
    "        for j in range(n):\n",
    "            if i != j:\n",
    "                term *= (x - x_values[j]) / (x_values[i] - x_values[j])\n",
    "        result += term\n",
    "    \n",
    "    return result\n",
    "\n",
    "# Example usage:\n",
    "x_values = [1, 2, 3, 4]\n",
    "y_values = [1, 4, 9, 16]\n",
    "interpolated_value = lagrange_interpolation(x_values, y_values, 2.5)\n",
    "print(f\"Interpolated value at x = 2.5: {interpolated_value:.2f}\")\n"
   ]
  },
  {
   "cell_type": "code",
   "execution_count": null,
   "id": "17f2192d-9ecf-4809-8f9a-17cf526805f2",
   "metadata": {},
   "outputs": [],
   "source": []
  }
 ],
 "metadata": {
  "kernelspec": {
   "display_name": "Python 3 (ipykernel)",
   "language": "python",
   "name": "python3"
  },
  "language_info": {
   "codemirror_mode": {
    "name": "ipython",
    "version": 3
   },
   "file_extension": ".py",
   "mimetype": "text/x-python",
   "name": "python",
   "nbconvert_exporter": "python",
   "pygments_lexer": "ipython3",
   "version": "3.11.7"
  }
 },
 "nbformat": 4,
 "nbformat_minor": 5
}
