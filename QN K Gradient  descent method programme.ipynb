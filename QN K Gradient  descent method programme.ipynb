{
 "cells": [
  {
   "cell_type": "code",
   "execution_count": 1,
   "id": "c3333082-7b43-422e-8292-7b01656bc263",
   "metadata": {},
   "outputs": [
    {
     "name": "stdout",
     "output_type": "stream",
     "text": [
      "Minimum value at (x, y): -0.33333333333333326 0.33333333333333326\n",
      "Minimum function value: 0.6666666666666667\n"
     ]
    }
   ],
   "source": [
    "def gradient_descent(f, grad_f, learning_rate, initial_guess, num_iterations):\n",
    "    x, y = initial_guess\n",
    "\n",
    "    for _ in range(num_iterations):\n",
    "        grad_x, grad_y = grad_f(x, y)\n",
    "        x -= learning_rate * grad_x\n",
    "        y -= learning_rate * grad_y\n",
    "\n",
    "    return x, y\n",
    "\n",
    "# Define the function f(x, y)\n",
    "def f(x, y):\n",
    "    return x**2 + y**2 - x*y + x - y + 1\n",
    "\n",
    "# Define the gradient of f(x, y)\n",
    "def grad_f(x, y):\n",
    "    grad_x = 2*x - y + 1\n",
    "    grad_y = 2*y - x - 1\n",
    "    return grad_x, grad_y\n",
    "\n",
    "# Set parameters\n",
    "learning_rate = 0.1\n",
    "initial_guess = (0, 0)\n",
    "num_iterations = 1000\n",
    "\n",
    "# Find the minimum\n",
    "min_x, min_y = gradient_descent(f, grad_f, learning_rate, initial_guess, num_iterations)\n",
    "\n",
    "print(\"Minimum value at (x, y):\", min_x, min_y)\n",
    "print(\"Minimum function value:\", f(min_x, min_y))\n"
   ]
  },
  {
   "cell_type": "code",
   "execution_count": null,
   "id": "5b247c1e-9c53-496f-b99d-0cd03caf9f54",
   "metadata": {},
   "outputs": [],
   "source": []
  }
 ],
 "metadata": {
  "kernelspec": {
   "display_name": "Python 3 (ipykernel)",
   "language": "python",
   "name": "python3"
  },
  "language_info": {
   "codemirror_mode": {
    "name": "ipython",
    "version": 3
   },
   "file_extension": ".py",
   "mimetype": "text/x-python",
   "name": "python",
   "nbconvert_exporter": "python",
   "pygments_lexer": "ipython3",
   "version": "3.11.7"
  }
 },
 "nbformat": 4,
 "nbformat_minor": 5
}
